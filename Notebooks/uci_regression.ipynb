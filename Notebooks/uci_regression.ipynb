{
 "cells": [
  {
   "cell_type": "code",
   "execution_count": 1,
   "metadata": {},
   "outputs": [],
   "source": [
    "%matplotlib inline  "
   ]
  },
  {
   "cell_type": "code",
   "execution_count": 2,
   "metadata": {},
   "outputs": [],
   "source": [
    "import torch\n",
    "import pandas as pd\n",
    "import numpy as np\n",
    "import math\n",
    "import matplotlib.pylab as plt\n",
    "import matplotlib as mpl\n",
    "import matplotlib.ticker as ticker\n",
    "import torch.utils.data as data_utils\n",
    "import pickle\n",
    "import os\n",
    "import warnings \n",
    "warnings.simplefilter(\"ignore\", UserWarning)"
   ]
  },
  {
   "cell_type": "code",
   "execution_count": 3,
   "metadata": {},
   "outputs": [],
   "source": [
    "os.chdir(\"..\")"
   ]
  },
  {
   "cell_type": "code",
   "execution_count": 4,
   "metadata": {},
   "outputs": [],
   "source": [
    "from Prior_optimization.gpr import GPR\n",
    "from Prior_optimization import kernels, mean_functions, priors\n",
    "from Networks.gaussian_reparam_mlp import GaussianMLPReparameterization\n",
    "from Networks.factorized_gaussian_reparam_mlp import FactorizedGaussianMLPReparameterization\n",
    "from Networks.mlp import MLP\n",
    "from Samplers.likelihoods import LikGaussian\n",
    "from Prior_optimization.priors import FixedGaussianPrior, OptimGaussianPrior\n",
    "from Utilities.rand_generators import MeasureSetGenerator, GridGenerator\n",
    "from Utilities.normalization import normalize_data\n",
    "from Utilities.exp_utils import get_input_range\n",
    "from Metrics.sampling import compute_rhat_regression\n",
    "from Metrics import uncertainty as uncertainty_metrics\n",
    "from Networks.regression_net import RegressionNet\n",
    "from Networks.mlp_masked import MLPMasked\n",
    "from Networks.regression_net_masked import RegressionNetMasked\n",
    "from Prior_optimization.sinkhorn_optimisation import SinkhornMapper\n",
    "from Utilities import util\n",
    "from Utilities.priors import LogNormal"
   ]
  },
  {
   "cell_type": "code",
   "execution_count": 5,
   "metadata": {},
   "outputs": [],
   "source": [
    "mpl.rcParams['figure.dpi'] = 100"
   ]
  },
  {
   "cell_type": "code",
   "execution_count": 6,
   "metadata": {},
   "outputs": [],
   "source": [
    "SEED = 123\n",
    "util.set_seed(SEED)"
   ]
  },
  {
   "cell_type": "code",
   "execution_count": 7,
   "metadata": {},
   "outputs": [],
   "source": [
    "# Network architecture\n",
    "n_units = 100\n",
    "n_hidden = 1\n",
    "activation_fn = \"tanh\""
   ]
  },
  {
   "cell_type": "code",
   "execution_count": 8,
   "metadata": {},
   "outputs": [],
   "source": [
    "# Dataset configurations\n",
    "n_splits = 10\n",
    "dataset = \"boston\"\n",
    "data_dir = \"./data/uci\"\n",
    "noise_var = 0.1"
   ]
  },
  {
   "cell_type": "code",
   "execution_count": 9,
   "metadata": {},
   "outputs": [
    {
     "name": "stdout",
     "output_type": "stream",
     "text": [
      "Using device: cuda \n",
      "\n",
      "NVIDIA A100-SXM4-80GB\n",
      "Memory Usage:\n",
      "Allocated: 0.0 GB\n",
      "Cached:    0.0 GB\n"
     ]
    }
   ],
   "source": [
    "# setting device on GPU if available, else CPU\n",
    "n_gpu = 0\n",
    "device = torch.device('cuda' if torch.cuda.is_available() else 'cpu')\n",
    "print(f'Using device: {device} \\n')\n",
    "\n",
    "#Additional Info when using cuda\n",
    "if device.type == 'cuda':\n",
    "    print(torch.cuda.get_device_name(0))\n",
    "    print('Memory Usage:')\n",
    "    print('Allocated:', round(torch.cuda.memory_allocated(0)/1024**3,1), 'GB')\n",
    "    print('Cached:   ', round(torch.cuda.memory_reserved(0)/1024**3,1), 'GB')\n",
    "    n_gpu +=1"
   ]
  },
  {
   "cell_type": "markdown",
   "metadata": {},
   "source": [
    "# 1. Optimized Gaussian Prior"
   ]
  },
  {
   "cell_type": "code",
   "execution_count": 10,
   "metadata": {},
   "outputs": [],
   "source": [
    "out_dir = \"./exp/uci/optim_gaussian\"\n",
    "util.ensure_dir(out_dir)"
   ]
  },
  {
   "cell_type": "markdown",
   "metadata": {},
   "source": [
    "## 1.1 Optimize the prior"
   ]
  },
  {
   "cell_type": "code",
   "execution_count": 11,
   "metadata": {},
   "outputs": [],
   "source": [
    "num_iters = 200  # Number of iteterations of Wasserstein optimization\n",
    "lr = 0.05        # The learning rate\n",
    "n_samples = 128  # The mini-batch size\n",
    "lambd_sd = torch.tensor([2.]).to(device) # Vetcor of penalization terms\n",
    "D = 3            # Depth for pruning of standard deviations\n",
    "num_samples = 30\n",
    "num_iters_sd = 10000\n",
    "print_every = 100\n",
    "n_data = 128"
   ]
  },
  {
   "cell_type": "code",
   "execution_count": null,
   "metadata": {
    "scrolled": true
   },
   "outputs": [
    {
     "name": "stdout",
     "output_type": "stream",
     "text": [
      "Loading split 1 of boston dataset\n",
      ">>> Iteration #   1: Sinkhorn Dist 42.5757 Number of pruned stochastic weights: 0\n",
      ">>> Iteration # 100: Sinkhorn Dist 24.4243 Number of pruned stochastic weights: 0\n",
      ">>> Iteration # 200: Sinkhorn Dist 28.2920 Number of pruned stochastic weights: 0\n",
      ">>> Iteration # 300: Sinkhorn Dist 22.9162 Number of pruned stochastic weights: 1\n",
      ">>> Iteration # 400: Sinkhorn Dist 33.5053 Number of pruned stochastic weights: 3\n",
      ">>> Iteration # 500: Sinkhorn Dist 32.0044 Number of pruned stochastic weights: 7\n",
      ">>> Iteration # 600: Sinkhorn Dist 35.8917 Number of pruned stochastic weights: 11\n",
      ">>> Iteration # 700: Sinkhorn Dist 25.4768 Number of pruned stochastic weights: 24\n",
      ">>> Iteration # 800: Sinkhorn Dist 27.3003 Number of pruned stochastic weights: 39\n",
      ">>> Iteration # 900: Sinkhorn Dist 27.9885 Number of pruned stochastic weights: 51\n",
      ">>> Iteration # 1000: Sinkhorn Dist 35.7554 Number of pruned stochastic weights: 66\n",
      ">>> Iteration # 1100: Sinkhorn Dist 21.4929 Number of pruned stochastic weights: 89\n",
      ">>> Iteration # 1200: Sinkhorn Dist 38.5716 Number of pruned stochastic weights: 114\n",
      ">>> Iteration # 1300: Sinkhorn Dist 27.9004 Number of pruned stochastic weights: 156\n",
      ">>> Iteration # 1400: Sinkhorn Dist 23.2337 Number of pruned stochastic weights: 174\n",
      ">>> Iteration # 1500: Sinkhorn Dist 26.8898 Number of pruned stochastic weights: 197\n",
      ">>> Iteration # 1600: Sinkhorn Dist 29.3674 Number of pruned stochastic weights: 225\n",
      ">>> Iteration # 1700: Sinkhorn Dist 28.0877 Number of pruned stochastic weights: 248\n",
      ">>> Iteration # 1800: Sinkhorn Dist 21.9821 Number of pruned stochastic weights: 272\n",
      ">>> Iteration # 1900: Sinkhorn Dist 14.9856 Number of pruned stochastic weights: 297\n",
      ">>> Iteration # 2000: Sinkhorn Dist 28.1381 Number of pruned stochastic weights: 331\n",
      ">>> Iteration # 2100: Sinkhorn Dist 25.3033 Number of pruned stochastic weights: 360\n",
      ">>> Iteration # 2200: Sinkhorn Dist 17.4686 Number of pruned stochastic weights: 380\n",
      ">>> Iteration # 2300: Sinkhorn Dist 27.2351 Number of pruned stochastic weights: 407\n",
      ">>> Iteration # 2400: Sinkhorn Dist 10.1777 Number of pruned stochastic weights: 429\n",
      ">>> Iteration # 2500: Sinkhorn Dist 24.3837 Number of pruned stochastic weights: 455\n",
      ">>> Iteration # 2600: Sinkhorn Dist 20.7559 Number of pruned stochastic weights: 474\n",
      ">>> Iteration # 2700: Sinkhorn Dist 11.1671 Number of pruned stochastic weights: 491\n",
      ">>> Iteration # 2800: Sinkhorn Dist 12.1807 Number of pruned stochastic weights: 508\n",
      ">>> Iteration # 2900: Sinkhorn Dist 9.7495 Number of pruned stochastic weights: 525\n",
      ">>> Iteration # 3000: Sinkhorn Dist 8.7480 Number of pruned stochastic weights: 540\n",
      ">>> Iteration # 3100: Sinkhorn Dist 17.2200 Number of pruned stochastic weights: 557\n",
      ">>> Iteration # 3200: Sinkhorn Dist 18.3168 Number of pruned stochastic weights: 576\n"
     ]
    }
   ],
   "source": [
    "masks_list = []\n",
    "for split_id in range(n_splits):\n",
    "    print(\"Loading split {} of {} dataset\".format(split_id+1, dataset))\n",
    "    # Load the dataset\n",
    "    saved_dir = os.path.join(out_dir, str(split_id))\n",
    "    X_train, y_train, X_test, y_test = util.load_uci_data(\n",
    "            data_dir, split_id, dataset)\n",
    "    X_train_, y_train_, X_test_, y_test_, y_mean, y_std = normalize_data(\n",
    "            X_train, y_train, X_test, y_test)\n",
    "    x_min, x_max = get_input_range(X_train_, X_test_)\n",
    "    input_dim, output_dim = int(X_train.shape[-1]), 1\n",
    "    # Initialize the measurement set generator\n",
    "    rand_generator = MeasureSetGenerator(X_train_, x_min, x_max, 0.7)\n",
    "    \n",
    "    # Initialize the mean and covariance function of the target hierarchical GP prior\n",
    "    mean = mean_functions.Zero()\n",
    "    \n",
    "    lengthscale = math.sqrt(2. * input_dim)\n",
    "    variance = 1.\n",
    "    kernel = kernels.RBF(input_dim=input_dim,\n",
    "                         lengthscales=torch.tensor([lengthscale], dtype=torch.double),\n",
    "                         variance=torch.tensor([variance], dtype=torch.double), ARD=True)\n",
    "\n",
    "    # Place hyper-priors on lengthscales and variances\n",
    "    kernel.lengthscales.prior = LogNormal(\n",
    "            torch.ones([input_dim]) * math.log(lengthscale),\n",
    "            torch.ones([input_dim]) * 1.)\n",
    "    kernel.variance.prior = LogNormal(\n",
    "            torch.ones([1]) * 0.1,\n",
    "            torch.ones([1]) * 1.)\n",
    "        \n",
    "    # Initialize the GP model\n",
    "    gp = GPR(X=torch.from_numpy(X_train_), Y=torch.from_numpy(y_train_).reshape([-1, 1]),\n",
    "             kern=kernel, mean_function=mean)\n",
    "    gp.likelihood.variance.set(noise_var)\n",
    "    gp = gp.to(device)\n",
    "    \n",
    "    # Initialize tunable MLP prior\n",
    "    hidden_dims = [n_units] * n_hidden\n",
    "    mlp_reparam = FactorizedGaussianMLPReparameterization(input_dim, output_dim,\n",
    "        hidden_dims, D = D, activation_fn=activation_fn, scaled_variance=True, device=device)\n",
    "    # Perform optimization\n",
    "    mapper = SinkhornMapper(out_dir=saved_dir).to(device)\n",
    "    y_train_tensor = torch.tensor(y_train).to(device)  # Assumes y is 1D: (batch_size,)\n",
    "    y_train = y_train_tensor[:, None, None].expand(-1, num_samples, 1)\n",
    "    p_hist, loss_hist = mapper.optimize_sparse(net = mlp_reparam, gp = gp, data_generator = rand_generator, \n",
    "            lambd= lambd_sd, n_data = n_data, num_iters = num_iters_sd, print_every=print_every, output_dim = 1, \n",
    "            D= D, X_train = torch.tensor(X_train), y_train= y_train, n_samples = num_samples)\n",
    "    path = os.path.join(saved_dir, \"loss_values.log\")\n",
    "    if not os.path.isfile(saved_dir):\n",
    "        os.makedirs(saved_dir, exist_ok=True)\n",
    "    np.savetxt(path, loss_hist, fmt='%.6e')\n",
    "    path = os.path.join(saved_dir, \"pruned_values.log\")\n",
    "    if not os.path.isfile(saved_dir):\n",
    "        os.makedirs(saved_dir, exist_ok=True)\n",
    "    np.savetxt(path, p_hist, fmt='%.6e')\n",
    "    print(\"----\" * 20)\n",
    "    masks_list.append(mlp_reparam.get_det_masks())\n",
    "# Save the masks\n",
    "with open(os.path.join(out_dir, \"masks_list.pkl\"), \"wb\") as f:\n",
    "    pickle.dump(masks_list, f)"
   ]
  },
  {
   "cell_type": "code",
   "execution_count": 13,
   "metadata": {},
   "outputs": [
    {
     "data": {
      "image/png": "[encoded data removed]",
      "text/plain": [
       "<Figure size 1200x350 with 2 Axes>"
      ]
     },
     "metadata": {},
     "output_type": "display_data"
    }
   ],
   "source": [
    "# Visualize the convergence\n",
    "lossdist_data = []\n",
    "pruned_vals_data = []\n",
    "for i in range(0, n_splits):\n",
    "    lossdist_file = os.path.join(out_dir, str(i), \"loss_values.log\")\n",
    "    pruned_vals_file = os.path.join(out_dir, str(i), \"pruned_values.log\")\n",
    "    lossdist_data.append(np.loadtxt(lossdist_file))\n",
    "    pruned_vals_data.append(np.loadtxt(pruned_vals_file))\n",
    "\n",
    "lossdist_vals = np.stack(lossdist_data)\n",
    "pruned_vals = np.stack(pruned_vals_data)\n",
    "indices = np.arange(num_iters_sd)[::100]\n",
    "mean_loss = lossdist_vals.mean(0)\n",
    "std_loss = lossdist_vals.std(0)\n",
    "mean_pruned = pruned_vals.mean(0)\n",
    "std_pruned = pruned_vals.std(0)\n",
    "\n",
    "fig, axes = plt.subplots(1, 2, figsize=(12, 3.5))  \n",
    "axes[0].plot(indices, mean_pruned[indices], \"ko\", ms=4)\n",
    "axes[0].fill_between(indices, mean_pruned[indices] - std_pruned[indices],\n",
    "                 mean_pruned[indices] + std_pruned[indices], alpha=0.18, color=\"k\")\n",
    "axes[0].set_ylabel(\"Number pruned weights\")\n",
    "axes[0].set_xlabel(\"Iteration\")\n",
    "axes[0].yaxis.set_major_locator(ticker.MaxNLocator(integer=True))\n",
    "\n",
    "axes[1].plot(indices, mean_loss[indices], \"-ko\", ms=4)\n",
    "axes[1].fill_between(indices, mean_loss[indices]-std_loss[indices],\n",
    "                     mean_loss[indices]+std_loss[indices], alpha = 0.18, color = \"k\")\n",
    "axes[1].set_ylabel(\"Sinkhorn Distance\")\n",
    "axes[1].set_xlabel(\"Iteration\")\n",
    "\n",
    "plt.tight_layout()\n",
    "plt.show()"
   ]
  },
  {
   "cell_type": "markdown",
   "metadata": {},
   "source": [
    "## 1.2 Posterior Inference"
   ]
  },
  {
   "cell_type": "markdown",
   "metadata": {},
   "source": [
    "### No Prevention from Overfitting"
   ]
  },
  {
   "cell_type": "code",
   "execution_count": 12,
   "metadata": {},
   "outputs": [],
   "source": [
    "sampling_configs = {\n",
    "    \"batch_size\": 32,                 # Mini-batch size\n",
    "    \"num_samples\": 40,                # Total number of samples for each chain \n",
    "    \"n_discarded\": 10,                # Number of the first samples to be discared for each chain\n",
    "    \"num_burn_in_steps\": 1000,         # Number of burn-in steps\n",
    "    \"keep_every\": 1000,                # Thinning interval\n",
    "    \"lr\": 1e-2,                       # Step size\n",
    "    \"num_chains\": 4,                  # Number of chains\n",
    "    \"mdecay\": 1e-2,                   # Momentum coefficient\n",
    "    \"print_every_n_samples\": 5\n",
    "}\n",
    "\n",
    "# Load the masks\n",
    "with open(os.path.join(out_dir, \"masks_list.pkl\"), \"rb\") as f:\n",
    "    masks_list = pickle.load(f)"
   ]
  },
  {
   "cell_type": "code",
   "execution_count": null,
   "metadata": {
    "scrolled": true
   },
   "outputs": [
    {
     "name": "stdout",
     "output_type": "stream",
     "text": [
      "Loading split 1 of boston dataset\n",
      "Chain: 1\n",
      "Samples #     5 : NLL =  2.6267e+00 RMSE = 2.8552e+00 \n",
      "Samples #    10 : NLL =  2.6073e+00 RMSE = 2.5133e+00 \n",
      "Samples #    15 : NLL =  2.6205e+00 RMSE = 2.3470e+00 \n",
      "Samples #    20 : NLL =  2.6341e+00 RMSE = 2.2313e+00 \n",
      "Samples #    25 : NLL =  2.6334e+00 RMSE = 2.1880e+00 \n",
      "Samples #    30 : NLL =  2.6522e+00 RMSE = 2.1804e+00 \n",
      "Chain: 2\n",
      "Samples #    35 : NLL =  2.6087e+00 RMSE = 1.9148e+00 \n",
      "Samples #    40 : NLL =  2.5822e+00 RMSE = 1.7448e+00 \n",
      "Samples #    45 : NLL =  2.5628e+00 RMSE = 1.6412e+00 \n",
      "Samples #    50 : NLL =  2.5505e+00 RMSE = 1.5718e+00 \n",
      "Samples #    55 : NLL =  2.5363e+00 RMSE = 1.5068e+00 \n",
      "Samples #    60 : NLL =  2.5256e+00 RMSE = 1.4600e+00 \n",
      "Chain: 3\n",
      "Samples #    65 : NLL =  2.5156e+00 RMSE = 1.3787e+00 \n",
      "Samples #    70 : NLL =  2.5086e+00 RMSE = 1.3221e+00 \n",
      "Samples #    75 : NLL =  2.5011e+00 RMSE = 1.2653e+00 \n",
      "Samples #    80 : NLL =  2.4969e+00 RMSE = 1.2307e+00 \n",
      "Samples #    85 : NLL =  2.4946e+00 RMSE = 1.1929e+00 \n",
      "Samples #    90 : NLL =  2.4898e+00 RMSE = 1.1711e+00 \n",
      "Chain: 4\n",
      "Samples #    95 : NLL =  2.4984e+00 RMSE = 1.1448e+00 \n",
      "Samples #   100 : NLL =  2.5157e+00 RMSE = 1.1362e+00 \n",
      "Samples #   105 : NLL =  2.5304e+00 RMSE = 1.1361e+00 \n",
      "Samples #   110 : NLL =  2.5464e+00 RMSE = 1.1434e+00 \n",
      "Samples #   115 : NLL =  2.5631e+00 RMSE = 1.1545e+00 \n",
      "Samples #   120 : NLL =  2.5798e+00 RMSE = 1.1686e+00 \n",
      "R-hat: mean 1.3064 std 0.3073\n",
      "> RMSE = 4.4884 | NLL = 3.2876\n",
      "Loading split 2 of boston dataset\n",
      "Chain: 1\n",
      "Samples #     5 : NLL =  2.2449e+00 RMSE = 1.6656e+00 \n",
      "Samples #    10 : NLL =  2.2373e+00 RMSE = 1.4398e+00 \n",
      "Samples #    15 : NLL =  2.2381e+00 RMSE = 1.3266e+00 \n",
      "Samples #    20 : NLL =  2.2409e+00 RMSE = 1.3077e+00 \n",
      "Samples #    25 : NLL =  2.2425e+00 RMSE = 1.3029e+00 \n",
      "Samples #    30 : NLL =  2.2420e+00 RMSE = 1.2899e+00 \n",
      "Chain: 2\n",
      "Samples #    35 : NLL =  2.2654e+00 RMSE = 1.1946e+00 \n",
      "Samples #    40 : NLL =  2.2910e+00 RMSE = 1.1403e+00 \n",
      "Samples #    45 : NLL =  2.3107e+00 RMSE = 1.1061e+00 \n",
      "Samples #    50 : NLL =  2.3158e+00 RMSE = 1.0743e+00 \n",
      "Samples #    55 : NLL =  2.3307e+00 RMSE = 1.0533e+00 \n",
      "Samples #    60 : NLL =  2.3340e+00 RMSE = 1.0461e+00 \n",
      "Chain: 3\n",
      "Samples #    65 : NLL =  2.3510e+00 RMSE = 1.0125e+00 \n",
      "Samples #    70 : NLL =  2.3715e+00 RMSE = 9.9152e-01 \n",
      "Samples #    75 : NLL =  2.3915e+00 RMSE = 9.8771e-01 \n",
      "Samples #    80 : NLL =  2.4140e+00 RMSE = 9.9105e-01 \n",
      "Samples #    85 : NLL =  2.4358e+00 RMSE = 9.9475e-01 \n",
      "Samples #    90 : NLL =  2.4485e+00 RMSE = 9.9789e-01 \n",
      "Chain: 4\n",
      "Samples #    95 : NLL =  2.4505e+00 RMSE = 9.8907e-01 \n",
      "Samples #   100 : NLL =  2.4531e+00 RMSE = 9.7968e-01 \n",
      "Samples #   105 : NLL =  2.4563e+00 RMSE = 9.6663e-01 \n"
     ]
    }
   ],
   "source": [
    "results_no = {\"rmse\": [], \"nll\": []}\n",
    "\n",
    "for split_id in range(n_splits):\n",
    "    print(\"Loading split {} of {} dataset\".format(split_id+1, dataset))\n",
    "    saved_dir = os.path.join(out_dir, str(split_id))\n",
    "    \n",
    "    # Load the dataset\n",
    "    X_train, y_train, X_test, y_test = util.load_uci_data(\n",
    "            data_dir, split_id, dataset)\n",
    "    input_dim, output_dim = int(X_train.shape[-1]), 1\n",
    "    # Initialize the neural network and likelihood modules\n",
    "    weight_mask, bias_mask = masks_list[split_id]\n",
    "    net = MLPMasked(input_dim, output_dim, [n_units] * n_hidden, activation_fn, weight_mask, \n",
    "                    bias_mask, device = device)\n",
    "    net = net.to(device)\n",
    "    likelihood = LikGaussian(noise_var)\n",
    "    \n",
    "    # Load the optimized prior\n",
    "    ckpt_path = os.path.join(out_dir, str(split_id), \"ckpts\", \"sparse-it-{}.ckpt\".format(num_iters_sd))\n",
    "    prior = OptimGaussianPrior(ckpt_path)\n",
    "    \n",
    "    # Initialize bayesian neural network with SGHMC sampler\n",
    "    saved_dir = os.path.join(out_dir, str(split_id))\n",
    "    bayes_net = RegressionNetMasked(net, likelihood, prior, saved_dir, n_gpu=n_gpu)\n",
    "    \n",
    "    # Start sampling\n",
    "    bayes_net.sample_multi_chains(X_train, y_train, **sampling_configs)\n",
    "    pred_mean, pred_var, preds, raw_preds = bayes_net.predict(X_test, True, True)\n",
    "    r_hat = compute_rhat_regression(raw_preds, sampling_configs[\"num_chains\"])\n",
    "    print(\"R-hat: mean {:.4f} std {:.4f}\".format(float(r_hat.mean()), float(r_hat.std())))\n",
    "\n",
    "    rmse = uncertainty_metrics.rmse(pred_mean, y_test)\n",
    "    nll = uncertainty_metrics.gaussian_nll(y_test, pred_mean, pred_var)\n",
    "    print(\"> RMSE = {:.4f} | NLL = {:.4f}\".format(rmse, nll))\n",
    "    results_no['rmse'].append(rmse)\n",
    "    results_no['nll'].append(nll)"
   ]
  },
  {
   "cell_type": "code",
   "execution_count": null,
   "metadata": {},
   "outputs": [],
   "source": [
    "result_df_no = pd.DataFrame(results_no)\n",
    "result_df_no.to_csv(os.path.join(out_dir, \"optim_results.csv\"), sep=\"\\t\", index=False)"
   ]
  },
  {
   "cell_type": "markdown",
   "metadata": {},
   "source": [
    "### Dropout to prevent overfitting"
   ]
  },
  {
   "cell_type": "code",
   "execution_count": null,
   "metadata": {},
   "outputs": [],
   "source": [
    "sampling_configs = {\n",
    "    \"batch_size\": 32,                 # Mini-batch size\n",
    "    \"num_samples\": 40,                # Total number of samples for each chain \n",
    "    \"n_discarded\": 10,                # Number of the first samples to be discared for each chain\n",
    "    \"num_burn_in_steps\": 2000,         # Number of burn-in steps\n",
    "    \"keep_every\": 2000,                # Thinning interval\n",
    "    \"lr\": 1e-2,                       # Step size\n",
    "    \"num_chains\": 4,                  # Number of chains\n",
    "    \"mdecay\": 1e-2,                   # Momentum coefficient\n",
    "    \"print_every_n_samples\": 5,\n",
    "    \"prevent_overfitting\" : \"Dropout\"\n",
    "}"
   ]
  },
  {
   "cell_type": "code",
   "execution_count": null,
   "metadata": {},
   "outputs": [],
   "source": [
    "results_do = {\"rmse\": [], \"nll\": []}\n",
    "\n",
    "for split_id in range(n_splits):\n",
    "    print(\"Loading split {} of {} dataset\".format(split_id+1, dataset))\n",
    "    saved_dir = os.path.join(out_dir, str(split_id))\n",
    "    \n",
    "    # Load the dataset\n",
    "    X_train, y_train, X_test, y_test = util.load_uci_data(\n",
    "            data_dir, split_id, dataset)\n",
    "    input_dim, output_dim = int(X_train.shape[-1]), 1\n",
    "\n",
    "    # Initialize the neural network and likelihood modules\n",
    "    weight_mask, bias_mask = masks_list[split_id]\n",
    "    net = MLPMasked(input_dim, output_dim, [n_units] * n_hidden, activation_fn, weight_mask, \n",
    "                    bias_mask)\n",
    "    net = net.to(device)\n",
    "    likelihood = LikGaussian(noise_var)\n",
    "    \n",
    "    # Load the optimized prior\n",
    "    ckpt_path = os.path.join(out_dir, str(split_id), \"ckpts\", \"sparse-it-{}.ckpt\".format(num_iters_sd))\n",
    "    prior = OptimGaussianPrior(ckpt_path)\n",
    "    \n",
    "    # Initialize bayesian neural network with SGHMC sampler\n",
    "    saved_dir = os.path.join(out_dir, str(split_id))\n",
    "    bayes_net = RegressionNetMasked(net, likelihood, prior, saved_dir, n_gpu=n_gpu)\n",
    "    \n",
    "    # Start sampling\n",
    "    bayes_net.sample_multi_chains(X_train, y_train, **sampling_configs)\n",
    "    pred_mean, pred_var, preds, raw_preds = bayes_net.predict(X_test, True, True)\n",
    "    r_hat = compute_rhat_regression(raw_preds, sampling_configs[\"num_chains\"])\n",
    "    print(\"R-hat: mean {:.4f} std {:.4f}\".format(float(r_hat.mean()), float(r_hat.std())))\n",
    "\n",
    "    rmse = uncertainty_metrics.rmse(pred_mean, y_test)\n",
    "    nll = uncertainty_metrics.gaussian_nll(y_test, pred_mean, pred_var)\n",
    "    print(\"> RMSE = {:.4f} | NLL = {:.4f}\".format(rmse, nll))\n",
    "    results_do['rmse'].append(rmse)\n",
    "    results_do['nll'].append(nll)"
   ]
  },
  {
   "cell_type": "code",
   "execution_count": null,
   "metadata": {},
   "outputs": [],
   "source": [
    "result_df_do = pd.DataFrame(results_do)\n",
    "result_df_do.to_csv(os.path.join(out_dir, \"optim_results_dropout.csv\"), sep=\"\\t\", index=False)"
   ]
  },
  {
   "cell_type": "markdown",
   "metadata": {},
   "source": [
    "### Early Stopping to Prevent Overfitting"
   ]
  },
  {
   "cell_type": "code",
   "execution_count": null,
   "metadata": {},
   "outputs": [],
   "source": [
    "sampling_configs = {\n",
    "    \"batch_size\": 32,                 # Mini-batch size\n",
    "    \"num_samples\": 40,                # Total number of samples for each chain \n",
    "    \"n_discarded\": 10,                # Number of the first samples to be discared for each chain\n",
    "    \"num_burn_in_steps\": 2000,         # Number of burn-in steps\n",
    "    \"keep_every\": 2000,                # Thinning interval\n",
    "    \"lr\": 1e-2,                       # Step size\n",
    "    \"num_chains\": 4,                  # Number of chains\n",
    "    \"mdecay\": 1e-2,                   # Momentum coefficient\n",
    "    \"print_every_n_samples\": 5,\n",
    "    \"prevent_overfitting\" : \"Early Stopping\"\n",
    "}"
   ]
  },
  {
   "cell_type": "code",
   "execution_count": null,
   "metadata": {},
   "outputs": [],
   "source": [
    "results_es = {\"rmse\": [], \"nll\": []}\n",
    "\n",
    "for split_id in range(n_splits):\n",
    "    print(\"Loading split {} of {} dataset\".format(split_id+1, dataset))\n",
    "    saved_dir = os.path.join(out_dir, str(split_id))\n",
    "    \n",
    "    # Load the dataset\n",
    "    X_train, y_train, X_test, y_test = util.load_uci_data(\n",
    "            data_dir, split_id, dataset)\n",
    "    input_dim, output_dim = int(X_train.shape[-1]), 1\n",
    "\n",
    "    # Initialize the neural network and likelihood modules\n",
    "    weight_mask, bias_mask = masks_list[split_id]\n",
    "    net = MLPMasked(input_dim, output_dim, [n_units] * n_hidden, activation_fn, \n",
    "                    weight_mask, bias_mask)\n",
    "    net = net.to(device)\n",
    "    likelihood = LikGaussian(noise_var)\n",
    "    \n",
    "    # Load the optimized prior\n",
    "    ckpt_path = os.path.join(out_dir, str(split_id), \"ckpts\", \"sparse-it-{}.ckpt\".format(num_iters_sd))\n",
    "    prior = OptimGaussianPrior(ckpt_path)\n",
    "    \n",
    "    # Initialize bayesian neural network with SGHMC sampler\n",
    "    saved_dir = os.path.join(out_dir, str(split_id))\n",
    "    bayes_net = RegressionNetMasked(net, likelihood, prior, saved_dir, n_gpu=n_gpu)\n",
    "    \n",
    "    # Start sampling\n",
    "    bayes_net.sample_multi_chains(X_train, y_train, **sampling_configs)\n",
    "    pred_mean, pred_var, preds, raw_preds = bayes_net.predict(X_test, True, True)\n",
    "    r_hat = compute_rhat_regression(raw_preds, sampling_configs[\"num_chains\"])\n",
    "    print(\"R-hat: mean {:.4f} std {:.4f}\".format(float(r_hat.mean()), float(r_hat.std())))\n",
    "\n",
    "    rmse = uncertainty_metrics.rmse(pred_mean, y_test)\n",
    "    nll = uncertainty_metrics.gaussian_nll(y_test, pred_mean, pred_var)\n",
    "    print(\"> RMSE = {:.4f} | NLL = {:.4f}\".format(rmse, nll))\n",
    "    results_es['rmse'].append(rmse)\n",
    "    results_es['nll'].append(nll)"
   ]
  },
  {
   "cell_type": "code",
   "execution_count": null,
   "metadata": {},
   "outputs": [],
   "source": [
    "result_df_es = pd.DataFrame(results_es)\n",
    "result_df_es.to_csv(os.path.join(out_dir, \"optim_results_early_stoppping.csv\"), sep=\"\\t\", index=False)"
   ]
  },
  {
   "cell_type": "markdown",
   "metadata": {},
   "source": [
    "### WCP to regularize"
   ]
  },
  {
   "cell_type": "code",
   "execution_count": null,
   "metadata": {},
   "outputs": [],
   "source": [
    "sampling_configs = {\n",
    "    \"batch_size\": 32,                 # Mini-batch size\n",
    "    \"num_samples\": 40,                # Total number of samples for each chain \n",
    "    \"n_discarded\": 10,                # Number of the first samples to be discared for each chain\n",
    "    \"num_burn_in_steps\": 2000,         # Number of burn-in steps\n",
    "    \"keep_every\": 2000,                # Thinning interval\n",
    "    \"lr\": 1e-2,                       # Step size\n",
    "    \"num_chains\": 4,                  # Number of chains\n",
    "    \"mdecay\": 1e-2,                   # Momentum coefficient\n",
    "    \"print_every_n_samples\": 5,\n",
    "    \"prevent_overfitting\" : \"WCP\"\n",
    "}"
   ]
  },
  {
   "cell_type": "code",
   "execution_count": null,
   "metadata": {},
   "outputs": [],
   "source": [
    "results_wcp = {\"rmse\": [], \"nll\": []}\n",
    "\n",
    "for split_id in range(n_splits):\n",
    "    print(\"Loading split {} of {} dataset\".format(split_id+1, dataset))\n",
    "    saved_dir = os.path.join(out_dir, str(split_id))\n",
    "    \n",
    "    # Load the dataset\n",
    "    X_train, y_train, X_test, y_test = util.load_uci_data(\n",
    "            data_dir, split_id, dataset)\n",
    "    input_dim, output_dim = int(X_train.shape[-1]), 1\n",
    "\n",
    "    # Initialize the neural network and likelihood modules\n",
    "    weight_mask, bias_mask = masks_list[split_id]\n",
    "    net = MLPMasked(input_dim, output_dim, [n_units] * n_hidden, activation_fn, weight_mask,\n",
    "                    bias_mask)\n",
    "    net = net.to(device)\n",
    "    likelihood = LikGaussian(noise_var)\n",
    "    \n",
    "    # Load the optimized prior\n",
    "    ckpt_path = os.path.join(out_dir, str(split_id), \"ckpts\", \"sparse-it-{}.ckpt\".format(num_iters_sd))\n",
    "    prior = OptimGaussianPrior(ckpt_path)\n",
    "    \n",
    "    # Initialize bayesian neural network with SGHMC sampler\n",
    "    saved_dir = os.path.join(out_dir, str(split_id))\n",
    "    bayes_net = RegressionNetMasked(net, likelihood, prior, saved_dir, n_gpu=n_gpu)\n",
    "    \n",
    "    # Start sampling\n",
    "    bayes_net.sample_multi_chains(X_train, y_train, **sampling_configs)\n",
    "    pred_mean, pred_var, preds, raw_preds = bayes_net.predict(X_test, True, True)\n",
    "    r_hat = compute_rhat_regression(raw_preds, sampling_configs[\"num_chains\"])\n",
    "    print(\"R-hat: mean {:.4f} std {:.4f}\".format(float(r_hat.mean()), float(r_hat.std())))\n",
    "\n",
    "    rmse = uncertainty_metrics.rmse(pred_mean, y_test)\n",
    "    nll = uncertainty_metrics.gaussian_nll(y_test, pred_mean, pred_var)\n",
    "    print(\"> RMSE = {:.4f} | NLL = {:.4f}\".format(rmse, nll))\n",
    "    results_wcp['rmse'].append(rmse)\n",
    "    results_wcp['nll'].append(nll)"
   ]
  },
  {
   "cell_type": "code",
   "execution_count": null,
   "metadata": {},
   "outputs": [],
   "source": [
    "result_df_wcp = pd.DataFrame(results_wcp)\n",
    "result_df_wcp.to_csv(os.path.join(out_dir, \"optim_results_wcp.csv\"), sep=\"\\t\", index=False)"
   ]
  },
  {
   "cell_type": "markdown",
   "metadata": {},
   "source": [
    "### Final Result"
   ]
  },
  {
   "cell_type": "code",
   "execution_count": null,
   "metadata": {},
   "outputs": [],
   "source": [
    "# read all the results:\n",
    "result_df_wcp = pd.read_csv(os.path.join(out_dir, \"optim_results_wcp.csv\"), sep=\"\\t\")\n",
    "result_df_es = pd.read_csv(os.path.join(out_dir, \"optim_results_early_stoppping.csv\"), sep = \"\\t\")\n",
    "result_df_do = pd.read_csv(os.path.join(out_dir, \"optim_results_dropout.csv\"), sep = \"\\t\")\n",
    "result_df_no = pd.read_csv(os.path.join(out_dir, \"optim_results.csv\"), sep = \"\\t\")\n",
    "\n",
    "data_rmse = [result_df_no[\"rmse\"], result_df_do[\"rmse\"], result_df_es[\"rmse\"], result_df_wcp[\"rmse\"]]\n",
    "data_nll = [result_df_no[\"nll\"], result_df_do[\"nll\"], result_df_es[\"nll\"], result_df_wcp[\"nll\"]]\n",
    "fig, axes = plt.subplots(1, 2, figsize=(12, 3.5))\n",
    "\n",
    "# RMSE box plot\n",
    "axes[0].boxplot(data_rmse, labels=['No prevention', 'Dropout', 'Early Stopping', 'WCP'])\n",
    "axes[0].set_ylabel(\"RMSE $\\downarrow$\")\n",
    "axes[0].set_title(\"RMSE Comparison\")\n",
    "axes[0].grid(True)\n",
    "\n",
    "# NLL box plot\n",
    "axes[1].boxplot(data_nll, labels=['No prevention', 'Dropout', 'Early Stopping', 'WCP'])\n",
    "axes[1].set_ylabel(\"NLL $\\downarrow$\")\n",
    "axes[1].set_title(\"NLL Comparison\")\n",
    "axes[1].grid(True)\n",
    "\n",
    "plt.tight_layout()\n",
    "plt.show()"
   ]
  },
  {
   "cell_type": "code",
   "execution_count": null,
   "metadata": {},
   "outputs": [],
   "source": [
    "print(\"Final results no prevention from overfitting:\")\n",
    "print(\"> RMSE: mean {:.4e}; std {:.4e} | NLL: mean {:.4e} std {:.4e}\".format(\n",
    "        float(result_df_no['rmse'].mean()), float(result_df_no['rmse'].std()),\n",
    "        float(result_df_no['nll'].mean()), float(result_df_no['nll'].std())))\n",
    "print(\"\\nFinal results using dropout:\")\n",
    "print(\"> RMSE: mean {:.4e}; std {:.4e} | NLL: mean {:.4e} std {:.4e}\".format(\n",
    "        float(result_df_do['rmse'].mean()), float(result_df_do['rmse'].std()),\n",
    "        float(result_df_do['nll'].mean()), float(result_df_do['nll'].std())))\n",
    "print(\"\\nFinal results using Early Stopping:\")\n",
    "print(\"> RMSE: mean {:.4e}; std {:.4e} | NLL: mean {:.4e} std {:.4e}\".format(\n",
    "        float(result_df_es['rmse'].mean()), float(result_df_es['rmse'].std()),\n",
    "        float(result_df_es['nll'].mean()), float(result_df_es['nll'].std())))\n",
    "print(\"\\nFinal results using WCP:\")\n",
    "print(\"> RMSE: mean {:.4e}; std {:.4e} | NLL: mean {:.4e} std {:.4e}\".format(\n",
    "        float(result_df_wcp['rmse'].mean()), float(result_df_wcp['rmse'].std()),\n",
    "        float(result_df_wcp['nll'].mean()), float(result_df_wcp['nll'].std())))"
   ]
  }
 ],
 "metadata": {
  "kernelspec": {
   "display_name": "Python 3 (ipykernel)",
   "language": "python",
   "name": "python3"
  },
  "language_info": {
   "codemirror_mode": {
    "name": "ipython",
    "version": 3
   },
   "file_extension": ".py",
   "mimetype": "text/x-python",
   "name": "python",
   "nbconvert_exporter": "python",
   "pygments_lexer": "ipython3",
   "version": "3.10.17"
  }
 },
 "nbformat": 4,
 "nbformat_minor": 4
}
